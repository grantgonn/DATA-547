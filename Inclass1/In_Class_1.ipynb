{
 "cells": [
  {
   "cell_type": "markdown",
   "metadata": {},
   "source": [
    "# Getting Familiar with TensorFlow\n",
    "\n",
    "# Question 1 (2 points)\n",
    "\n",
    "Import `TensorFlow`"
   ]
  },
  {
   "cell_type": "code",
   "execution_count": 3,
   "metadata": {},
   "outputs": [],
   "source": [
    "import tensorflow as tf"
   ]
  },
  {
   "cell_type": "markdown",
   "metadata": {},
   "source": [
    "# Question 2 (2 points)\n",
    "\n",
    "Creates a `TensorFlow` constant with the values `[1, 2, 3]`. Print its shape and data type."
   ]
  },
  {
   "cell_type": "code",
   "execution_count": 4,
   "metadata": {},
   "outputs": [
    {
     "name": "stdout",
     "output_type": "stream",
     "text": [
      "Tensor shape is: (3,)\n",
      "The data type of the tensor is: <dtype: 'int32'>\n"
     ]
    }
   ],
   "source": [
    "t = tf.constant([1,2,3])\n",
    "\n",
    "print('Tensor shape is:', t.shape)\n",
    "print('The data type of the tensor is:', t.dtype)"
   ]
  },
  {
   "cell_type": "markdown",
   "metadata": {},
   "source": [
    "# Question 3 (3 points)\n",
    "\n",
    "Create two `TensorFlow` tensors of shape `(2, 3)` filled with random values, and add the two tensors element-wise."
   ]
  },
  {
   "cell_type": "code",
   "execution_count": 5,
   "metadata": {},
   "outputs": [
    {
     "name": "stdout",
     "output_type": "stream",
     "text": [
      "Tensor 1 is: tf.Tensor(\n",
      "[[0.02541637 0.53203575 0.31883819]\n",
      " [0.57746734 0.01135793 0.80161307]], shape=(2, 3), dtype=float64)\n",
      "Tensor 2 is: tf.Tensor(\n",
      "[[0.05295835 0.29240135 0.3083015 ]\n",
      " [0.72653494 0.81535088 0.24757457]], shape=(2, 3), dtype=float64)\n",
      "Tensor 3 is: tf.Tensor(\n",
      "[[0.07837471 0.82443709 0.62713969]\n",
      " [1.30400228 0.82670881 1.04918764]], shape=(2, 3), dtype=float64)\n"
     ]
    }
   ],
   "source": [
    "import numpy as np\n",
    "\n",
    "t1 = tf.constant(np.random.rand(2,3))\n",
    "t2 = tf.constant(np.random.rand(2,3))\n",
    "\n",
    "# adding the tensors\n",
    "t3 = tf.add(t1,t2)\n",
    "\n",
    "print('Tensor 1 is:', t1)\n",
    "print('Tensor 2 is:', t2)\n",
    "print('Tensor 3 is:', t3)"
   ]
  },
  {
   "cell_type": "markdown",
   "metadata": {},
   "source": [
    "# Question 4 (3 points)\n",
    "\n",
    "Create a `TensorFlow` of shape `(4, 4)` filled with zeros and then change its value to 5."
   ]
  },
  {
   "cell_type": "code",
   "execution_count": 10,
   "metadata": {},
   "outputs": [
    {
     "name": "stdout",
     "output_type": "stream",
     "text": [
      "tf.Tensor(\n",
      "[[0. 0. 0. 0.]\n",
      " [0. 0. 0. 0.]\n",
      " [0. 0. 0. 0.]\n",
      " [0. 0. 0. 0.]], shape=(4, 4), dtype=float32)\n",
      "tf.Tensor(\n",
      "[[5 5 5 5]\n",
      " [5 5 5 5]\n",
      " [5 5 5 5]\n",
      " [5 5 5 5]], shape=(4, 4), dtype=int32)\n"
     ]
    }
   ],
   "source": [
    "t = tf.zeros(shape = (4,4))\n",
    "\n",
    "print(t)\n",
    "\n",
    "t = tf.constant(5, shape = (4,4))\n",
    "\n",
    "print(t)"
   ]
  },
  {
   "cell_type": "markdown",
   "metadata": {},
   "source": [
    "# Question 5 (3 points)\n",
    "\n",
    "Create a tensor of shape `(2, 2)` filled with random values, multiply it by `4`, and print the result."
   ]
  },
  {
   "cell_type": "code",
   "execution_count": 12,
   "metadata": {},
   "outputs": [
    {
     "name": "stdout",
     "output_type": "stream",
     "text": [
      "Tensor is tf.Tensor(\n",
      "[[0.57924319 0.86496482]\n",
      " [0.44415627 0.33869632]], shape=(2, 2), dtype=float64)\n",
      "constant is 4\n",
      "c * Tensor is tf.Tensor(\n",
      "[[2.31697276 3.4598593 ]\n",
      " [1.7766251  1.35478529]], shape=(2, 2), dtype=float64)\n"
     ]
    }
   ],
   "source": [
    "t = tf.constant(np.random.rand(2,2))\n",
    "\n",
    "c = 4\n",
    "\n",
    "t2 = c*t\n",
    "\n",
    "print('Tensor is', t)\n",
    "print('constant is', c)\n",
    "print('c * Tensor is', t2)"
   ]
  },
  {
   "cell_type": "markdown",
   "metadata": {},
   "source": [
    "# Question 6 (3 points)\n",
    "\n",
    "Create two random tensors of shape `(1, 3)` and compute the dot product of the two tensors."
   ]
  },
  {
   "cell_type": "code",
   "execution_count": 14,
   "metadata": {},
   "outputs": [
    {
     "name": "stdout",
     "output_type": "stream",
     "text": [
      "Tensor 1 is tf.Tensor([[0.13769547 0.77760788 0.94044622]], shape=(1, 3), dtype=float64)\n",
      "Tensor 2 is tf.Tensor([[0.39919473 0.09044629 0.26126851]], shape=(1, 3), dtype=float64)\n",
      "Tensor 1 and 2 dot product is tf.Tensor(0.3710080318391082, shape=(), dtype=float64)\n"
     ]
    }
   ],
   "source": [
    "t1 = tf.constant(np.random.rand(1,3))\n",
    "t2 = tf.constant(np.random.rand(1,3))\n",
    "\n",
    "# compute dot product\n",
    "dotp = tf.reduce_sum(tf.multiply(t1,t2))\n",
    "\n",
    "print('Tensor 1 is', t1)\n",
    "print('Tensor 2 is', t2)\n",
    "print('Tensor 1 and 2 dot product is', dotp)\n"
   ]
  }
 ],
 "metadata": {
  "kernelspec": {
   "display_name": "Python 3",
   "language": "python",
   "name": "python3"
  },
  "language_info": {
   "codemirror_mode": {
    "name": "ipython",
    "version": 3
   },
   "file_extension": ".py",
   "mimetype": "text/x-python",
   "name": "python",
   "nbconvert_exporter": "python",
   "pygments_lexer": "ipython3",
   "version": "3.8.8"
  }
 },
 "nbformat": 4,
 "nbformat_minor": 2
}
