{
 "cells": [
  {
   "cell_type": "markdown",
   "metadata": {},
   "source": [
    "# Getting Familiar with TensorFlow\n",
    "\n",
    "# Question 1 (2 points)\n",
    "\n",
    "Import `TensorFlow` and `numpy`"
   ]
  },
  {
   "cell_type": "code",
   "execution_count": 2,
   "metadata": {},
   "outputs": [],
   "source": [
    "import tensorflow as tf\n",
    "import numpy as np"
   ]
  },
  {
   "cell_type": "markdown",
   "metadata": {},
   "source": [
    "# Question 2 (4 points)\n",
    "\n",
    "Creates a `TensorFlow` constant and a `TensorFlow` variable. Add, substract, multiply and divide them and print the result."
   ]
  },
  {
   "cell_type": "code",
   "execution_count": 3,
   "metadata": {},
   "outputs": [
    {
     "name": "stdout",
     "output_type": "stream",
     "text": [
      "constant 4\n",
      "variable 5\n",
      "additioin: 9\n",
      "subtraction -1\n",
      "multi 20\n",
      "div 0.8\n"
     ]
    }
   ],
   "source": [
    "# def two tensors\n",
    "t_c = tf.constant(4)\n",
    "value = 5\n",
    "t_var = tf.Variable(value)\n",
    "\n",
    "# perform oporations \n",
    "add = t_c + t_var\n",
    "sub = t_c - t_var\n",
    "multi = t_c * t_var\n",
    "div = t_c / t_var\n",
    "\n",
    "\n",
    "print('constant',t_c.numpy())\n",
    "print('variable',t_var.numpy())\n",
    "print('additioin:',add.numpy())\n",
    "print('subtraction',sub.numpy())\n",
    "print('multi',multi.numpy())\n",
    "print('div',div.numpy())"
   ]
  },
  {
   "cell_type": "markdown",
   "metadata": {},
   "source": [
    "# Question 3 (4 points)\n",
    "\n",
    "Create a function that update a `TensorFlow` variable."
   ]
  },
  {
   "cell_type": "code",
   "execution_count": 4,
   "metadata": {},
   "outputs": [
    {
     "name": "stdout",
     "output_type": "stream",
     "text": [
      "inital variable: 2.5\n",
      "updated variable: 3.1415\n"
     ]
    }
   ],
   "source": [
    "initial_v = 2.5\n",
    "print('inital variable:', initial_v)\n",
    "\n",
    "var_t = tf.Variable(initial_v)\n",
    "\n",
    "# defining function to update tensor\n",
    "@tf.function\n",
    "def update_var(new_value):\n",
    "    var_t.assign(new_value)\n",
    "    \n",
    "# update variable\n",
    "new_value = 3.1415\n",
    "update_var(new_value)\n",
    "\n",
    "print('updated variable:', var_t.numpy())"
   ]
  },
  {
   "cell_type": "markdown",
   "metadata": {},
   "source": [
    "# Question 4 (4 points)\n",
    "\n",
    "Initialize a `TensorFlow` variable with an initial value and then updates it value within loop. Print the variable's value after each update."
   ]
  },
  {
   "cell_type": "code",
   "execution_count": null,
   "metadata": {},
   "outputs": [],
   "source": []
  },
  {
   "cell_type": "markdown",
   "metadata": {},
   "source": [
    "# Question 5 \n",
    "\n",
    "In this exercise, we will work on a toy example that will illustrate how to build a `perceptron` with `TensorFlow`.\n",
    "\n",
    "### Question 5(a) (3 points)\n",
    "\n",
    "Let's create a simple toy example as follows:\n",
    "\n",
    "```\n",
    "X = np.array([\n",
    "    [0, 0],\n",
    "    [0, 1],\n",
    "    [1, 0],\n",
    "    [1, 1]\n",
    "])\n",
    "\n",
    "# Labels (0 or 1)\n",
    "y = np.array([0, 0, 0, 1])\n",
    "\n",
    "# Convert labels to a 2D array (required by TensorFlow)\n",
    "y = y.reshape(-1, 1)\n",
    "```"
   ]
  },
  {
   "cell_type": "code",
   "execution_count": 5,
   "metadata": {},
   "outputs": [],
   "source": [
    "X = np.array([\n",
    "    [0, 0],\n",
    "    [0, 1],\n",
    "    [1, 0],\n",
    "    [1, 1]\n",
    "])\n",
    "\n",
    "# Labels (0 or 1)\n",
    "y = np.array([0, 0, 0, 1])\n",
    "\n",
    "# Convert labels to a 2D array (required by TensorFlow)\n",
    "y = y.reshape(-1, 1)"
   ]
  },
  {
   "cell_type": "markdown",
   "metadata": {},
   "source": [
    "### Question 5(b) (3 points)\n",
    "\n",
    "Define the `perceptron` model."
   ]
  },
  {
   "cell_type": "code",
   "execution_count": 6,
   "metadata": {},
   "outputs": [
    {
     "name": "stderr",
     "output_type": "stream",
     "text": [
      "c:\\Users\\gmgma\\AppData\\Local\\Programs\\Python\\Python310\\lib\\site-packages\\keras\\src\\layers\\core\\dense.py:87: UserWarning: Do not pass an `input_shape`/`input_dim` argument to a layer. When using Sequential models, prefer using an `Input(shape)` object as the first layer in the model instead.\n",
      "  super().__init__(activity_regularizer=activity_regularizer, **kwargs)\n"
     ]
    }
   ],
   "source": [
    "model = tf.keras.Sequential([\n",
    "    tf.keras.layers.Dense(1, input_shape = (2,), activation='sigmoid')\n",
    "])"
   ]
  },
  {
   "cell_type": "markdown",
   "metadata": {},
   "source": [
    "### Question 5(c) (3 points)\n",
    "\n",
    "Compile the model from part 5(b). "
   ]
  },
  {
   "cell_type": "code",
   "execution_count": 7,
   "metadata": {},
   "outputs": [],
   "source": [
    "model.compile(optimizer='sgd', loss='binary_crossentropy', metrics=['accuracy'])"
   ]
  },
  {
   "cell_type": "markdown",
   "metadata": {},
   "source": [
    "### Question 5(d) (3 points)\n",
    "\n",
    "Train the model with `epochs=5`"
   ]
  },
  {
   "cell_type": "code",
   "execution_count": 24,
   "metadata": {},
   "outputs": [
    {
     "name": "stdout",
     "output_type": "stream",
     "text": [
      "Epoch 1/5\n",
      "\u001b[1m1/1\u001b[0m \u001b[32m━━━━━━━━━━━━━━━━━━━━\u001b[0m\u001b[37m\u001b[0m \u001b[1m0s\u001b[0m 29ms/step - accuracy: 0.7500 - loss: 0.6436\n",
      "Epoch 2/5\n",
      "\u001b[1m1/1\u001b[0m \u001b[32m━━━━━━━━━━━━━━━━━━━━\u001b[0m\u001b[37m\u001b[0m \u001b[1m0s\u001b[0m 32ms/step - accuracy: 0.7500 - loss: 0.6431\n",
      "Epoch 3/5\n",
      "\u001b[1m1/1\u001b[0m \u001b[32m━━━━━━━━━━━━━━━━━━━━\u001b[0m\u001b[37m\u001b[0m \u001b[1m0s\u001b[0m 29ms/step - accuracy: 0.7500 - loss: 0.6425\n",
      "Epoch 4/5\n",
      "\u001b[1m1/1\u001b[0m \u001b[32m━━━━━━━━━━━━━━━━━━━━\u001b[0m\u001b[37m\u001b[0m \u001b[1m0s\u001b[0m 30ms/step - accuracy: 0.7500 - loss: 0.6420\n",
      "Epoch 5/5\n",
      "\u001b[1m1/1\u001b[0m \u001b[32m━━━━━━━━━━━━━━━━━━━━\u001b[0m\u001b[37m\u001b[0m \u001b[1m0s\u001b[0m 31ms/step - accuracy: 0.7500 - loss: 0.6414\n"
     ]
    },
    {
     "data": {
      "text/plain": [
       "<keras.src.callbacks.history.History at 0x194395185b0>"
      ]
     },
     "execution_count": 24,
     "metadata": {},
     "output_type": "execute_result"
    }
   ],
   "source": [
    "model.fit(X,y, epochs=5)"
   ]
  },
  {
   "cell_type": "markdown",
   "metadata": {},
   "source": [
    "### Question 5(e) (3 points)\n",
    "\n",
    "Evaluate the model."
   ]
  },
  {
   "cell_type": "code",
   "execution_count": 25,
   "metadata": {},
   "outputs": [
    {
     "name": "stdout",
     "output_type": "stream",
     "text": [
      "\u001b[1m1/1\u001b[0m \u001b[32m━━━━━━━━━━━━━━━━━━━━\u001b[0m\u001b[37m\u001b[0m \u001b[1m0s\u001b[0m 116ms/step - accuracy: 0.7500 - loss: 0.6409\n",
      "Accuracy:75.00%\n"
     ]
    }
   ],
   "source": [
    "loss, accuracy = model.evaluate(X,y)\n",
    "\n",
    "print(f'Accuracy:{accuracy*100:.2f}%')"
   ]
  },
  {
   "cell_type": "markdown",
   "metadata": {},
   "source": [
    "### Question 5(f) (3 points)\n",
    "\n",
    "Use the model to make predictions."
   ]
  },
  {
   "cell_type": "code",
   "execution_count": 27,
   "metadata": {},
   "outputs": [
    {
     "name": "stdout",
     "output_type": "stream",
     "text": [
      "\u001b[1m1/1\u001b[0m \u001b[32m━━━━━━━━━━━━━━━━━━━━\u001b[0m\u001b[37m\u001b[0m \u001b[1m0s\u001b[0m 39ms/step\n",
      "predictions:\n",
      "[[0.44503355]\n",
      " [0.45206994]\n",
      " [0.5118092 ]\n",
      " [0.5189141 ]]\n"
     ]
    }
   ],
   "source": [
    "predictions = model.predict(X)\n",
    "print('predictions:')\n",
    "print(predictions)"
   ]
  }
 ],
 "metadata": {
  "kernelspec": {
   "display_name": "Python 3",
   "language": "python",
   "name": "python3"
  },
  "language_info": {
   "codemirror_mode": {
    "name": "ipython",
    "version": 3
   },
   "file_extension": ".py",
   "mimetype": "text/x-python",
   "name": "python",
   "nbconvert_exporter": "python",
   "pygments_lexer": "ipython3",
   "version": "3.10.2"
  }
 },
 "nbformat": 4,
 "nbformat_minor": 2
}
