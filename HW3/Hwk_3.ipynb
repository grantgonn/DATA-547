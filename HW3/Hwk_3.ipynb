{
 "cells": [
  {
   "cell_type": "markdown",
   "metadata": {},
   "source": [
    "# Exercise 1 \n",
    "\n",
    "In this exercise, we will keep practicing regression with `TensorFlow`.\n",
    "\n",
    "### Exercise 1(a) (2 points)\n",
    "\n",
    "Load the following libraries.\n",
    "\n",
    "```\n",
    "import pandas as pd \n",
    "import numpy as np\n",
    "\n",
    "from sklearn.metrics import mean_absolute_error\n",
    "from sklearn.model_selection import train_test_split, KFold\n",
    "\n",
    "import tensorflow as tf\n",
    "```"
   ]
  },
  {
   "cell_type": "code",
   "execution_count": 2,
   "metadata": {},
   "outputs": [],
   "source": [
    "import pandas as pd \n",
    "import numpy as np\n",
    "\n",
    "from sklearn.metrics import mean_absolute_error\n",
    "from sklearn.model_selection import train_test_split, KFold\n",
    "\n",
    "import tensorflow as tf"
   ]
  },
  {
   "cell_type": "markdown",
   "metadata": {},
   "source": [
    "### Exercise 1(b) (2 points)\n",
    "\n",
    "Read the `CrabAgePrediction.csv` data file and create a data frame called `crab`. The dataset is used to estimate the age of the crab based on the physical attributes. "
   ]
  },
  {
   "cell_type": "code",
   "execution_count": 3,
   "metadata": {},
   "outputs": [
    {
     "data": {
      "text/html": [
       "<div>\n",
       "<style scoped>\n",
       "    .dataframe tbody tr th:only-of-type {\n",
       "        vertical-align: middle;\n",
       "    }\n",
       "\n",
       "    .dataframe tbody tr th {\n",
       "        vertical-align: top;\n",
       "    }\n",
       "\n",
       "    .dataframe thead th {\n",
       "        text-align: right;\n",
       "    }\n",
       "</style>\n",
       "<table border=\"1\" class=\"dataframe\">\n",
       "  <thead>\n",
       "    <tr style=\"text-align: right;\">\n",
       "      <th></th>\n",
       "      <th>Sex</th>\n",
       "      <th>Length</th>\n",
       "      <th>Diameter</th>\n",
       "      <th>Height</th>\n",
       "      <th>Weight</th>\n",
       "      <th>Shucked Weight</th>\n",
       "      <th>Viscera Weight</th>\n",
       "      <th>Shell Weight</th>\n",
       "      <th>Age</th>\n",
       "    </tr>\n",
       "  </thead>\n",
       "  <tbody>\n",
       "    <tr>\n",
       "      <th>0</th>\n",
       "      <td>F</td>\n",
       "      <td>1.4375</td>\n",
       "      <td>1.1750</td>\n",
       "      <td>0.4125</td>\n",
       "      <td>24.635715</td>\n",
       "      <td>12.332033</td>\n",
       "      <td>5.584852</td>\n",
       "      <td>6.747181</td>\n",
       "      <td>9</td>\n",
       "    </tr>\n",
       "    <tr>\n",
       "      <th>1</th>\n",
       "      <td>M</td>\n",
       "      <td>0.8875</td>\n",
       "      <td>0.6500</td>\n",
       "      <td>0.2125</td>\n",
       "      <td>5.400580</td>\n",
       "      <td>2.296310</td>\n",
       "      <td>1.374951</td>\n",
       "      <td>1.559222</td>\n",
       "      <td>6</td>\n",
       "    </tr>\n",
       "    <tr>\n",
       "      <th>2</th>\n",
       "      <td>I</td>\n",
       "      <td>1.0375</td>\n",
       "      <td>0.7750</td>\n",
       "      <td>0.2500</td>\n",
       "      <td>7.952035</td>\n",
       "      <td>3.231843</td>\n",
       "      <td>1.601747</td>\n",
       "      <td>2.764076</td>\n",
       "      <td>6</td>\n",
       "    </tr>\n",
       "    <tr>\n",
       "      <th>3</th>\n",
       "      <td>F</td>\n",
       "      <td>1.1750</td>\n",
       "      <td>0.8875</td>\n",
       "      <td>0.2500</td>\n",
       "      <td>13.480187</td>\n",
       "      <td>4.748541</td>\n",
       "      <td>2.282135</td>\n",
       "      <td>5.244657</td>\n",
       "      <td>10</td>\n",
       "    </tr>\n",
       "    <tr>\n",
       "      <th>4</th>\n",
       "      <td>I</td>\n",
       "      <td>0.8875</td>\n",
       "      <td>0.6625</td>\n",
       "      <td>0.2125</td>\n",
       "      <td>6.903103</td>\n",
       "      <td>3.458639</td>\n",
       "      <td>1.488349</td>\n",
       "      <td>1.700970</td>\n",
       "      <td>6</td>\n",
       "    </tr>\n",
       "  </tbody>\n",
       "</table>\n",
       "</div>"
      ],
      "text/plain": [
       "  Sex  Length  Diameter  Height     Weight  Shucked Weight  Viscera Weight  \\\n",
       "0   F  1.4375    1.1750  0.4125  24.635715       12.332033        5.584852   \n",
       "1   M  0.8875    0.6500  0.2125   5.400580        2.296310        1.374951   \n",
       "2   I  1.0375    0.7750  0.2500   7.952035        3.231843        1.601747   \n",
       "3   F  1.1750    0.8875  0.2500  13.480187        4.748541        2.282135   \n",
       "4   I  0.8875    0.6625  0.2125   6.903103        3.458639        1.488349   \n",
       "\n",
       "   Shell Weight  Age  \n",
       "0      6.747181    9  \n",
       "1      1.559222    6  \n",
       "2      2.764076    6  \n",
       "3      5.244657   10  \n",
       "4      1.700970    6  "
      ]
     },
     "execution_count": 3,
     "metadata": {},
     "output_type": "execute_result"
    }
   ],
   "source": [
    "crab = pd.read_csv('CrabAgePrediction.csv')\n",
    "crab.head()"
   ]
  },
  {
   "cell_type": "markdown",
   "metadata": {},
   "source": [
    "### Exercise 1(c) (2 points)\n",
    "\n",
    "Report the frequency table of `Sex`."
   ]
  },
  {
   "cell_type": "code",
   "execution_count": 4,
   "metadata": {},
   "outputs": [
    {
     "data": {
      "text/plain": [
       "M    1435\n",
       "I    1233\n",
       "F    1225\n",
       "Name: Sex, dtype: int64"
      ]
     },
     "execution_count": 4,
     "metadata": {},
     "output_type": "execute_result"
    }
   ],
   "source": [
    "crab['Sex'].value_counts()"
   ]
  },
  {
   "cell_type": "markdown",
   "metadata": {},
   "source": [
    "### Exercise 1(d) (3 points)\n",
    "\n",
    "Create a histogram of `Age`. Describe the chart."
   ]
  },
  {
   "cell_type": "code",
   "execution_count": 5,
   "metadata": {},
   "outputs": [
    {
     "data": {
      "text/plain": [
       "<AxesSubplot:>"
      ]
     },
     "execution_count": 5,
     "metadata": {},
     "output_type": "execute_result"
    },
    {
     "data": {
      "image/png": "[encoded data removed]",
      "text/plain": [
       "<Figure size 432x288 with 1 Axes>"
      ]
     },
     "metadata": {
      "needs_background": "light"
     },
     "output_type": "display_data"
    }
   ],
   "source": [
    "crab['Age'].hist()"
   ]
  },
  {
   "cell_type": "markdown",
   "metadata": {},
   "source": [
    "The above chart is slightly right skewed."
   ]
  },
  {
   "cell_type": "markdown",
   "metadata": {},
   "source": [
    "### Exercise 1(e) (4 points)\n",
    "\n",
    "Using `get_dummies` from `pandas` to convert `Sex` into a 0-1 columns. Append the 0-1 column to the `crab` data frame and then drop the `Sex` column."
   ]
  },
  {
   "cell_type": "code",
   "execution_count": 6,
   "metadata": {},
   "outputs": [
    {
     "data": {
      "text/html": [
       "<div>\n",
       "<style scoped>\n",
       "    .dataframe tbody tr th:only-of-type {\n",
       "        vertical-align: middle;\n",
       "    }\n",
       "\n",
       "    .dataframe tbody tr th {\n",
       "        vertical-align: top;\n",
       "    }\n",
       "\n",
       "    .dataframe thead th {\n",
       "        text-align: right;\n",
       "    }\n",
       "</style>\n",
       "<table border=\"1\" class=\"dataframe\">\n",
       "  <thead>\n",
       "    <tr style=\"text-align: right;\">\n",
       "      <th></th>\n",
       "      <th>Length</th>\n",
       "      <th>Diameter</th>\n",
       "      <th>Height</th>\n",
       "      <th>Weight</th>\n",
       "      <th>Shucked Weight</th>\n",
       "      <th>Viscera Weight</th>\n",
       "      <th>Shell Weight</th>\n",
       "      <th>Age</th>\n",
       "      <th>I</th>\n",
       "      <th>M</th>\n",
       "    </tr>\n",
       "  </thead>\n",
       "  <tbody>\n",
       "    <tr>\n",
       "      <th>0</th>\n",
       "      <td>1.4375</td>\n",
       "      <td>1.1750</td>\n",
       "      <td>0.4125</td>\n",
       "      <td>24.635715</td>\n",
       "      <td>12.332033</td>\n",
       "      <td>5.584852</td>\n",
       "      <td>6.747181</td>\n",
       "      <td>9</td>\n",
       "      <td>0.0</td>\n",
       "      <td>0.0</td>\n",
       "    </tr>\n",
       "    <tr>\n",
       "      <th>1</th>\n",
       "      <td>0.8875</td>\n",
       "      <td>0.6500</td>\n",
       "      <td>0.2125</td>\n",
       "      <td>5.400580</td>\n",
       "      <td>2.296310</td>\n",
       "      <td>1.374951</td>\n",
       "      <td>1.559222</td>\n",
       "      <td>6</td>\n",
       "      <td>0.0</td>\n",
       "      <td>1.0</td>\n",
       "    </tr>\n",
       "    <tr>\n",
       "      <th>2</th>\n",
       "      <td>1.0375</td>\n",
       "      <td>0.7750</td>\n",
       "      <td>0.2500</td>\n",
       "      <td>7.952035</td>\n",
       "      <td>3.231843</td>\n",
       "      <td>1.601747</td>\n",
       "      <td>2.764076</td>\n",
       "      <td>6</td>\n",
       "      <td>1.0</td>\n",
       "      <td>0.0</td>\n",
       "    </tr>\n",
       "    <tr>\n",
       "      <th>3</th>\n",
       "      <td>1.1750</td>\n",
       "      <td>0.8875</td>\n",
       "      <td>0.2500</td>\n",
       "      <td>13.480187</td>\n",
       "      <td>4.748541</td>\n",
       "      <td>2.282135</td>\n",
       "      <td>5.244657</td>\n",
       "      <td>10</td>\n",
       "      <td>0.0</td>\n",
       "      <td>0.0</td>\n",
       "    </tr>\n",
       "    <tr>\n",
       "      <th>4</th>\n",
       "      <td>0.8875</td>\n",
       "      <td>0.6625</td>\n",
       "      <td>0.2125</td>\n",
       "      <td>6.903103</td>\n",
       "      <td>3.458639</td>\n",
       "      <td>1.488349</td>\n",
       "      <td>1.700970</td>\n",
       "      <td>6</td>\n",
       "      <td>1.0</td>\n",
       "      <td>0.0</td>\n",
       "    </tr>\n",
       "  </tbody>\n",
       "</table>\n",
       "</div>"
      ],
      "text/plain": [
       "   Length  Diameter  Height     Weight  Shucked Weight  Viscera Weight  \\\n",
       "0  1.4375    1.1750  0.4125  24.635715       12.332033        5.584852   \n",
       "1  0.8875    0.6500  0.2125   5.400580        2.296310        1.374951   \n",
       "2  1.0375    0.7750  0.2500   7.952035        3.231843        1.601747   \n",
       "3  1.1750    0.8875  0.2500  13.480187        4.748541        2.282135   \n",
       "4  0.8875    0.6625  0.2125   6.903103        3.458639        1.488349   \n",
       "\n",
       "   Shell Weight  Age    I    M  \n",
       "0      6.747181    9  0.0  0.0  \n",
       "1      1.559222    6  0.0  1.0  \n",
       "2      2.764076    6  1.0  0.0  \n",
       "3      5.244657   10  0.0  0.0  \n",
       "4      1.700970    6  1.0  0.0  "
      ]
     },
     "execution_count": 6,
     "metadata": {},
     "output_type": "execute_result"
    }
   ],
   "source": [
    "dummies = pd.get_dummies(crab['Sex'], dtype=float, drop_first=True)\n",
    "\n",
    "crab = pd.concat([crab, dummies], axis=1)\n",
    "crab = crab.drop(columns=['Sex'], axis=1)\n",
    "crab.head()"
   ]
  },
  {
   "cell_type": "markdown",
   "metadata": {},
   "source": [
    "### Exercise 1(f) (4 points)\n",
    "\n",
    "Define `Age` as the target feature, and the other features as the input features. Then, split the data into `train` (80%) and `test` (20%.)"
   ]
  },
  {
   "cell_type": "code",
   "execution_count": 7,
   "metadata": {},
   "outputs": [],
   "source": [
    "x = crab.drop(columns=['Age'], axis=1)\n",
    "y = crab['Age']\n",
    "\n",
    "x_train, x_test, y_train, y_test = train_test_split(x,y,test_size=0.2)"
   ]
  },
  {
   "cell_type": "markdown",
   "metadata": {},
   "source": [
    "### Exercise 1(g) (6 points)\n",
    "\n",
    "Build a neural network and evaluate it as follows:\n",
    "\n",
    "- Define a network with 2 layers of 16 neurons and `relu` as the activation function.\n",
    "- Compile the model with `optimizer=tf.keras.optimizers.Adam(learning_rate=0.1)`, and `loss='MeanAbsoluteError'`.\n",
    "- Build the model on the `train` data, with `epochs=30` and `validation_split=0.1`.\n",
    "- Evaluate the model in the `test` data."
   ]
  },
  {
   "cell_type": "code",
   "execution_count": 8,
   "metadata": {},
   "outputs": [
    {
     "name": "stdout",
     "output_type": "stream",
     "text": [
      "Epoch 1/20\n",
      "88/88 [==============================] - 1s 3ms/step - loss: 2.0715 - val_loss: 1.9287\n",
      "Epoch 2/20\n",
      "88/88 [==============================] - 0s 1ms/step - loss: 1.7510 - val_loss: 1.5144\n",
      "Epoch 3/20\n",
      "88/88 [==============================] - 0s 2ms/step - loss: 1.6929 - val_loss: 1.7492\n",
      "Epoch 4/20\n",
      "88/88 [==============================] - 0s 2ms/step - loss: 1.7366 - val_loss: 1.4910\n",
      "Epoch 5/20\n",
      "88/88 [==============================] - 0s 2ms/step - loss: 1.6755 - val_loss: 1.5288\n",
      "Epoch 6/20\n",
      "88/88 [==============================] - 0s 1ms/step - loss: 1.6798 - val_loss: 1.5263\n",
      "Epoch 7/20\n",
      "88/88 [==============================] - 0s 1ms/step - loss: 1.6335 - val_loss: 1.4986\n",
      "Epoch 8/20\n",
      "88/88 [==============================] - 0s 1ms/step - loss: 1.6857 - val_loss: 1.5209\n",
      "Epoch 9/20\n",
      "88/88 [==============================] - 0s 1ms/step - loss: 1.6494 - val_loss: 1.7732\n",
      "Epoch 10/20\n",
      "88/88 [==============================] - 0s 2ms/step - loss: 1.7051 - val_loss: 1.6221\n",
      "Epoch 11/20\n",
      "88/88 [==============================] - 0s 1ms/step - loss: 1.7443 - val_loss: 2.0928\n",
      "Epoch 12/20\n",
      "88/88 [==============================] - 0s 1ms/step - loss: 1.6533 - val_loss: 1.5855\n",
      "Epoch 13/20\n",
      "88/88 [==============================] - 0s 1ms/step - loss: 1.6790 - val_loss: 1.4891\n",
      "Epoch 14/20\n",
      "88/88 [==============================] - 0s 1ms/step - loss: 1.6747 - val_loss: 1.5797\n",
      "Epoch 15/20\n",
      "88/88 [==============================] - 0s 1ms/step - loss: 1.6738 - val_loss: 1.6875\n",
      "Epoch 16/20\n",
      "88/88 [==============================] - 0s 2ms/step - loss: 1.6204 - val_loss: 1.5175\n",
      "Epoch 17/20\n",
      "88/88 [==============================] - 0s 1ms/step - loss: 1.6606 - val_loss: 1.5625\n",
      "Epoch 18/20\n",
      "88/88 [==============================] - 0s 1ms/step - loss: 1.6665 - val_loss: 1.5505\n",
      "Epoch 19/20\n",
      "88/88 [==============================] - 0s 1ms/step - loss: 1.6902 - val_loss: 1.5171\n",
      "Epoch 20/20\n",
      "88/88 [==============================] - 0s 1ms/step - loss: 1.6484 - val_loss: 1.4955\n"
     ]
    },
    {
     "data": {
      "text/plain": [
       "<keras.src.callbacks.History at 0x25467704cd0>"
      ]
     },
     "execution_count": 8,
     "metadata": {},
     "output_type": "execute_result"
    }
   ],
   "source": [
    "md_1 = tf.keras.Sequential([\n",
    "    tf.keras.layers.Dense(16, input_shape = (9,), activation='relu'),\n",
    "    tf.keras.layers.Dense(16, activation='relu'),\n",
    "    tf.keras.layers.Dense(1, activation='relu')\n",
    "])\n",
    "\n",
    "md_1.compile(optimizer=tf.keras.optimizers.Adam(learning_rate=0.1), loss='MeanAbsoluteError')\n",
    "\n",
    "md_1.fit(x_train, y_train, epochs=20, validation_split=.1)"
   ]
  },
  {
   "cell_type": "markdown",
   "metadata": {},
   "source": [
    "### Exercise 1(h) (6 points)\n",
    "\n",
    "Build a neural network and evaluate it as follows:\n",
    "\n",
    "- Define a network with 2 layers of 16 neurons and `relu` as the activation function. Make sure to include `BatchNormalization()`\n",
    "before the first layer.\n",
    "- Compile the model with `optimizer=tf.keras.optimizers.Adam(learning_rate=0.1)`, and `loss='MeanAbsoluteError'`.\n",
    "- Build the model on the `train` data, with `epochs=30` and `validation_split=0.1`.\n",
    "- Evaluate the model in the `test` data."
   ]
  },
  {
   "cell_type": "code",
   "execution_count": 9,
   "metadata": {},
   "outputs": [
    {
     "name": "stdout",
     "output_type": "stream",
     "text": [
      "Epoch 1/20\n",
      "88/88 [==============================] - 1s 3ms/step - loss: 9.2416 - val_loss: 2.5535\n",
      "Epoch 2/20\n",
      "88/88 [==============================] - 0s 1ms/step - loss: 2.0838 - val_loss: 1.6230\n",
      "Epoch 3/20\n",
      "88/88 [==============================] - 0s 1ms/step - loss: 1.7792 - val_loss: 1.8506\n",
      "Epoch 4/20\n",
      "88/88 [==============================] - 0s 2ms/step - loss: 1.8245 - val_loss: 1.7719\n",
      "Epoch 5/20\n",
      "88/88 [==============================] - 0s 1ms/step - loss: 1.7212 - val_loss: 1.5829\n",
      "Epoch 6/20\n",
      "88/88 [==============================] - 0s 1ms/step - loss: 1.7742 - val_loss: 1.6302\n",
      "Epoch 7/20\n",
      "88/88 [==============================] - 0s 2ms/step - loss: 1.6939 - val_loss: 1.6659\n",
      "Epoch 8/20\n",
      "88/88 [==============================] - 0s 2ms/step - loss: 1.6905 - val_loss: 1.5412\n",
      "Epoch 9/20\n",
      "88/88 [==============================] - 0s 2ms/step - loss: 1.7411 - val_loss: 1.5529\n",
      "Epoch 10/20\n",
      "88/88 [==============================] - 0s 1ms/step - loss: 1.7026 - val_loss: 1.5237\n",
      "Epoch 11/20\n",
      "88/88 [==============================] - 0s 2ms/step - loss: 1.6552 - val_loss: 1.8438\n",
      "Epoch 12/20\n",
      "88/88 [==============================] - 0s 1ms/step - loss: 1.6733 - val_loss: 1.8538\n",
      "Epoch 13/20\n",
      "88/88 [==============================] - 0s 1ms/step - loss: 1.6900 - val_loss: 1.8388\n",
      "Epoch 14/20\n",
      "88/88 [==============================] - 0s 2ms/step - loss: 1.7144 - val_loss: 1.6546\n",
      "Epoch 15/20\n",
      "88/88 [==============================] - 0s 2ms/step - loss: 1.6776 - val_loss: 1.5547\n",
      "Epoch 16/20\n",
      "88/88 [==============================] - 0s 1ms/step - loss: 1.7225 - val_loss: 1.5949\n",
      "Epoch 17/20\n",
      "88/88 [==============================] - 0s 2ms/step - loss: 1.6500 - val_loss: 1.7610\n",
      "Epoch 18/20\n",
      "88/88 [==============================] - 0s 2ms/step - loss: 1.7233 - val_loss: 1.7320\n",
      "Epoch 19/20\n",
      "88/88 [==============================] - 0s 1ms/step - loss: 1.7133 - val_loss: 1.7456\n",
      "Epoch 20/20\n",
      "88/88 [==============================] - 0s 2ms/step - loss: 1.6994 - val_loss: 1.7655\n"
     ]
    },
    {
     "data": {
      "text/plain": [
       "<keras.src.callbacks.History at 0x25468c3dd90>"
      ]
     },
     "execution_count": 9,
     "metadata": {},
     "output_type": "execute_result"
    }
   ],
   "source": [
    "md_2 = tf.keras.Sequential([\n",
    "    tf.keras.layers.BatchNormalization(),\n",
    "    tf.keras.layers.Dense(16, input_shape = (9,), activation='relu'),\n",
    "    tf.keras.layers.Dense(16, activation='relu'),\n",
    "    tf.keras.layers.Dense(1, activation='relu')\n",
    "])\n",
    "\n",
    "md_2.compile(optimizer=tf.keras.optimizers.Adam(learning_rate=0.1), loss='MeanAbsoluteError')\n",
    "\n",
    "md_2.fit(x_train, y_train, epochs=20, validation_split=.1)"
   ]
  },
  {
   "cell_type": "markdown",
   "metadata": {},
   "source": [
    "### Exercise 1(i) (6 points)\n",
    "\n",
    "Build a neural network and evaluate it as follows:\n",
    "\n",
    "- Define a network with 2 layers of 16 neurons and `relu` as the activation function.\n",
    "- Compile the model with `optimizer=tf.keras.optimizers.Adam(learning_rate=0.1)`, and `loss='MeanAbsoluteError'`.\n",
    "- Build the model on the `train` data, with `epochs=30`, `batch_size=64`, and `validation_split=0.1`.\n",
    "- Evaluate the model in the `test` data."
   ]
  },
  {
   "cell_type": "code",
   "execution_count": 10,
   "metadata": {},
   "outputs": [
    {
     "name": "stdout",
     "output_type": "stream",
     "text": [
      "Epoch 1/30\n",
      "44/44 [==============================] - 1s 4ms/step - loss: 3.4988 - val_loss: 1.5538\n",
      "Epoch 2/30\n",
      "44/44 [==============================] - 0s 2ms/step - loss: 1.6971 - val_loss: 2.1033\n",
      "Epoch 3/30\n",
      "44/44 [==============================] - 0s 2ms/step - loss: 1.6906 - val_loss: 1.4407\n",
      "Epoch 4/30\n",
      "44/44 [==============================] - 0s 2ms/step - loss: 1.6634 - val_loss: 1.4339\n",
      "Epoch 5/30\n",
      "44/44 [==============================] - 0s 2ms/step - loss: 1.6513 - val_loss: 1.6448\n",
      "Epoch 6/30\n",
      "44/44 [==============================] - 0s 2ms/step - loss: 1.6166 - val_loss: 1.4132\n",
      "Epoch 7/30\n",
      "44/44 [==============================] - 0s 2ms/step - loss: 1.6261 - val_loss: 1.4222\n",
      "Epoch 8/30\n",
      "44/44 [==============================] - 0s 2ms/step - loss: 1.6311 - val_loss: 1.4225\n",
      "Epoch 9/30\n",
      "44/44 [==============================] - 0s 2ms/step - loss: 1.5809 - val_loss: 1.4047\n",
      "Epoch 10/30\n",
      "44/44 [==============================] - 0s 2ms/step - loss: 1.5732 - val_loss: 1.5150\n",
      "Epoch 11/30\n",
      "44/44 [==============================] - 0s 2ms/step - loss: 1.5362 - val_loss: 1.4245\n",
      "Epoch 12/30\n",
      "44/44 [==============================] - 0s 2ms/step - loss: 1.5522 - val_loss: 1.4180\n",
      "Epoch 13/30\n",
      "44/44 [==============================] - 0s 2ms/step - loss: 1.5954 - val_loss: 1.4418\n",
      "Epoch 14/30\n",
      "44/44 [==============================] - 0s 2ms/step - loss: 1.5592 - val_loss: 1.4627\n",
      "Epoch 15/30\n",
      "44/44 [==============================] - 0s 2ms/step - loss: 1.7566 - val_loss: 1.5689\n",
      "Epoch 16/30\n",
      "44/44 [==============================] - 0s 2ms/step - loss: 1.6510 - val_loss: 1.4754\n",
      "Epoch 17/30\n",
      "44/44 [==============================] - 0s 2ms/step - loss: 1.5455 - val_loss: 1.5490\n",
      "Epoch 18/30\n",
      "44/44 [==============================] - 0s 2ms/step - loss: 1.5969 - val_loss: 1.5345\n",
      "Epoch 19/30\n",
      "44/44 [==============================] - 0s 2ms/step - loss: 1.5561 - val_loss: 1.6509\n",
      "Epoch 20/30\n",
      "44/44 [==============================] - 0s 2ms/step - loss: 1.5487 - val_loss: 1.4961\n",
      "Epoch 21/30\n",
      "44/44 [==============================] - 0s 2ms/step - loss: 1.5995 - val_loss: 1.4460\n",
      "Epoch 22/30\n",
      "44/44 [==============================] - 0s 2ms/step - loss: 1.5812 - val_loss: 1.5302\n",
      "Epoch 23/30\n",
      "44/44 [==============================] - 0s 2ms/step - loss: 1.5510 - val_loss: 1.4657\n",
      "Epoch 24/30\n",
      "44/44 [==============================] - 0s 2ms/step - loss: 1.5552 - val_loss: 1.5027\n",
      "Epoch 25/30\n",
      "44/44 [==============================] - 0s 2ms/step - loss: 1.5330 - val_loss: 1.4328\n",
      "Epoch 26/30\n",
      "44/44 [==============================] - 0s 2ms/step - loss: 1.5298 - val_loss: 1.4400\n",
      "Epoch 27/30\n",
      "44/44 [==============================] - 0s 2ms/step - loss: 1.5718 - val_loss: 1.4279\n",
      "Epoch 28/30\n",
      "44/44 [==============================] - 0s 2ms/step - loss: 1.6318 - val_loss: 1.6016\n",
      "Epoch 29/30\n",
      "44/44 [==============================] - 0s 2ms/step - loss: 1.6054 - val_loss: 1.4820\n",
      "Epoch 30/30\n",
      "44/44 [==============================] - 0s 2ms/step - loss: 1.6112 - val_loss: 1.8742\n"
     ]
    },
    {
     "data": {
      "text/plain": [
       "<keras.src.callbacks.History at 0x25469e59910>"
      ]
     },
     "execution_count": 10,
     "metadata": {},
     "output_type": "execute_result"
    }
   ],
   "source": [
    "md_3 = tf.keras.Sequential([\n",
    "    tf.keras.layers.Dense(16, input_shape = (9,), activation='relu'),\n",
    "    tf.keras.layers.Dense(16, activation='relu'),\n",
    "    tf.keras.layers.Dense(1, activation='relu')\n",
    "])\n",
    "\n",
    "md_3.compile(optimizer=tf.keras.optimizers.Adam(learning_rate=0.1), loss='MeanAbsoluteError')\n",
    "\n",
    "md_3.fit(x_train, y_train, epochs=30, batch_size=64, validation_split=.1)"
   ]
  },
  {
   "cell_type": "markdown",
   "metadata": {},
   "source": [
    "### Exercise 1(j) (6 points)\n",
    "\n",
    "Build a neural network and evaluate it as follows:\n",
    "\n",
    "- Define a network with 2 layers of 16 neurons and `relu` as the activation function. Make sure to include `BatchNormalization()`\n",
    "before the first layer.\n",
    "- Compile the model with `optimizer=tf.keras.optimizers.Adam(learning_rate=0.1)`, and `loss='MeanAbsoluteError'`.\n",
    "- Build the model on the `train` data, with `epochs=30`, `batch_size=64`, and `validation_split=0.1`.\n",
    "- Evaluate the model in the `test` data."
   ]
  },
  {
   "cell_type": "code",
   "execution_count": 11,
   "metadata": {},
   "outputs": [
    {
     "name": "stdout",
     "output_type": "stream",
     "text": [
      "Epoch 1/30\n",
      "44/44 [==============================] - 1s 4ms/step - loss: 2.7266 - val_loss: 2.3897\n",
      "Epoch 2/30\n",
      "44/44 [==============================] - 0s 2ms/step - loss: 1.7887 - val_loss: 1.7573\n",
      "Epoch 3/30\n",
      "44/44 [==============================] - 0s 2ms/step - loss: 1.8015 - val_loss: 1.7019\n",
      "Epoch 4/30\n",
      "44/44 [==============================] - 0s 2ms/step - loss: 1.6939 - val_loss: 1.7644\n",
      "Epoch 5/30\n",
      "44/44 [==============================] - 0s 2ms/step - loss: 1.7402 - val_loss: 1.6843\n",
      "Epoch 6/30\n",
      "44/44 [==============================] - 0s 2ms/step - loss: 1.6957 - val_loss: 1.7268\n",
      "Epoch 7/30\n",
      "44/44 [==============================] - 0s 2ms/step - loss: 1.6643 - val_loss: 1.5444\n",
      "Epoch 8/30\n",
      "44/44 [==============================] - 0s 2ms/step - loss: 1.6728 - val_loss: 1.5592\n",
      "Epoch 9/30\n",
      "44/44 [==============================] - 0s 2ms/step - loss: 1.7390 - val_loss: 2.1045\n",
      "Epoch 10/30\n",
      "44/44 [==============================] - 0s 2ms/step - loss: 1.8093 - val_loss: 1.7323\n",
      "Epoch 11/30\n",
      "44/44 [==============================] - 0s 2ms/step - loss: 1.6740 - val_loss: 1.6681\n",
      "Epoch 12/30\n",
      "44/44 [==============================] - 0s 2ms/step - loss: 1.6930 - val_loss: 1.5825\n",
      "Epoch 13/30\n",
      "44/44 [==============================] - 0s 2ms/step - loss: 1.6671 - val_loss: 1.5406\n",
      "Epoch 14/30\n",
      "44/44 [==============================] - 0s 2ms/step - loss: 1.6559 - val_loss: 1.4516\n",
      "Epoch 15/30\n",
      "44/44 [==============================] - 0s 2ms/step - loss: 1.6514 - val_loss: 1.5633\n",
      "Epoch 16/30\n",
      "44/44 [==============================] - 0s 2ms/step - loss: 1.7147 - val_loss: 1.5186\n",
      "Epoch 17/30\n",
      "44/44 [==============================] - 0s 2ms/step - loss: 1.6522 - val_loss: 1.5866\n",
      "Epoch 18/30\n",
      "44/44 [==============================] - 0s 2ms/step - loss: 1.6718 - val_loss: 1.5358\n",
      "Epoch 19/30\n",
      "44/44 [==============================] - 0s 2ms/step - loss: 1.6493 - val_loss: 1.8640\n",
      "Epoch 20/30\n",
      "44/44 [==============================] - 0s 2ms/step - loss: 1.6700 - val_loss: 1.4869\n",
      "Epoch 21/30\n",
      "44/44 [==============================] - 0s 2ms/step - loss: 1.6256 - val_loss: 1.4853\n",
      "Epoch 22/30\n",
      "44/44 [==============================] - 0s 2ms/step - loss: 1.5897 - val_loss: 1.6960\n",
      "Epoch 23/30\n",
      "44/44 [==============================] - 0s 2ms/step - loss: 1.6730 - val_loss: 1.4669\n",
      "Epoch 24/30\n",
      "44/44 [==============================] - 0s 2ms/step - loss: 1.6445 - val_loss: 1.4819\n",
      "Epoch 25/30\n",
      "44/44 [==============================] - 0s 2ms/step - loss: 1.6280 - val_loss: 1.4359\n",
      "Epoch 26/30\n",
      "44/44 [==============================] - 0s 2ms/step - loss: 1.5922 - val_loss: 1.4796\n",
      "Epoch 27/30\n",
      "44/44 [==============================] - 0s 2ms/step - loss: 1.6306 - val_loss: 1.5066\n",
      "Epoch 28/30\n",
      "44/44 [==============================] - 0s 2ms/step - loss: 1.6412 - val_loss: 1.5613\n",
      "Epoch 29/30\n",
      "44/44 [==============================] - 0s 2ms/step - loss: 1.6317 - val_loss: 1.5307\n",
      "Epoch 30/30\n",
      "44/44 [==============================] - 0s 2ms/step - loss: 1.5896 - val_loss: 1.5682\n"
     ]
    },
    {
     "data": {
      "text/plain": [
       "<keras.src.callbacks.History at 0x25468b374c0>"
      ]
     },
     "execution_count": 11,
     "metadata": {},
     "output_type": "execute_result"
    }
   ],
   "source": [
    "md_4 = tf.keras.Sequential([\n",
    "    tf.keras.layers.BatchNormalization(),\n",
    "    tf.keras.layers.Dense(16, input_shape = (9,), activation='relu'),\n",
    "    tf.keras.layers.Dense(16, activation='relu'),\n",
    "    tf.keras.layers.Dense(1, activation='relu')\n",
    "])\n",
    "\n",
    "md_4.compile(optimizer=tf.keras.optimizers.Adam(learning_rate=0.1), loss='MeanAbsoluteError')\n",
    "\n",
    "md_4.fit(x_train, y_train, epochs=30, batch_size=64, validation_split=.1)"
   ]
  },
  {
   "cell_type": "markdown",
   "metadata": {},
   "source": [
    "### Exercise 1(k) (2 points)\n",
    "\n",
    "Using the results from parts 1(g) to 1(j), what model would use to predict `Age`?"
   ]
  },
  {
   "cell_type": "code",
   "execution_count": 12,
   "metadata": {},
   "outputs": [
    {
     "name": "stdout",
     "output_type": "stream",
     "text": [
      "25/25 [==============================] - 0s 955us/step - loss: 1.4886\n",
      "md_1 MAE:1.488552451133728\n",
      "25/25 [==============================] - 0s 957us/step - loss: 1.6686\n",
      "md_2 MAE:1.6686347723007202\n",
      "25/25 [==============================] - 0s 881us/step - loss: 1.7497\n",
      "md_3 MAE:1.749675989151001\n",
      "25/25 [==============================] - 0s 926us/step - loss: 1.6196\n",
      "md_4 MAE:1.6195704936981201\n"
     ]
    }
   ],
   "source": [
    "MAE = md_1.evaluate(x_test, y_test)\n",
    "print(f'md_1 MAE:{MAE}')\n",
    "MAE = md_2.evaluate(x_test, y_test)\n",
    "print(f'md_2 MAE:{MAE}')\n",
    "MAE = md_3.evaluate(x_test, y_test)\n",
    "print(f'md_3 MAE:{MAE}')\n",
    "MAE = md_4.evaluate(x_test, y_test)\n",
    "print(f'md_4 MAE:{MAE}')"
   ]
  },
  {
   "cell_type": "markdown",
   "metadata": {},
   "source": [
    "I would use model 1 to predict crab age because it has the lowest MAE"
   ]
  },
  {
   "cell_type": "markdown",
   "metadata": {},
   "source": [
    "# Exercise 2 \n",
    "\n",
    "In this exercise, we will practice cross-validation with the model from parts 1(g) to 1(j). \\\n",
    "\n",
    "### Exercise 2(a) (2 points)\n",
    "\n",
    "First, let's define the cross-validation strategy as follows:\n",
    "\n",
    "```\n",
    "skf = KFold(n_splits=5, shuffle=True, random_state=10)\n",
    "```"
   ]
  },
  {
   "cell_type": "code",
   "execution_count": 13,
   "metadata": {},
   "outputs": [],
   "source": [
    "skf = KFold(n_splits=5, shuffle=True, random_state=10)"
   ]
  },
  {
   "cell_type": "markdown",
   "metadata": {},
   "source": [
    "### Exercise 2(b) (6 points)\n",
    "\n",
    "Compute the out-of-fold performance of the model from part 1(g) over the cros-validation strategy from part 2(a). Report the out-of-fold average mean absolute error."
   ]
  },
  {
   "cell_type": "code",
   "execution_count": 16,
   "metadata": {},
   "outputs": [
    {
     "name": "stdout",
     "output_type": "stream",
     "text": [
      "Fold 0 MAE is 1.6813887766298188\n",
      "Fold 1 MAE is 1.7032175143661792\n",
      "Fold 2 MAE is 1.614536186849964\n",
      "Fold 3 MAE is 1.618501766788316\n",
      "Fold 4 MAE is 1.5275897526189417\n",
      "the 5-fold oof MAE is 1.629046799450644\n"
     ]
    }
   ],
   "source": [
    "mae_scores_1 = list()\n",
    "\n",
    "for i, (train_idx, test_idx) in enumerate(skf.split(x,y)):\n",
    "    x_train, x_test = x.loc[train_idx], x.loc[test_idx]\n",
    "    y_train, y_test = y.loc[train_idx], y.loc[test_idx]\n",
    "    \n",
    "    md_1.fit(x_train, y_train, epochs=20, verbose = 0)\n",
    "    md_1_pred = md_1.predict(x_test, verbose=0)\n",
    "    \n",
    "    mae = mean_absolute_error(y_test, md_1_pred)\n",
    "    mae_scores_1.append(mae)\n",
    "    \n",
    "    print(f'Fold {i} MAE is {mae}')\n",
    "    \n",
    "print(f'the 5-fold oof MAE is {np.mean(mae_scores_1)}')"
   ]
  },
  {
   "cell_type": "markdown",
   "metadata": {},
   "source": [
    "### Exercise 2(c) (6 points)\n",
    "\n",
    "Compute the out-of-fold performance of the model from part 1(h) over the cros-validation strategy from part 2(a). Report the out-of-fold average mean absolute error."
   ]
  },
  {
   "cell_type": "code",
   "execution_count": 18,
   "metadata": {},
   "outputs": [
    {
     "name": "stdout",
     "output_type": "stream",
     "text": [
      "Fold 0 MAE is 1.6348047727797854\n",
      "Fold 1 MAE is 1.6223840560472365\n",
      "Fold 2 MAE is 1.624155141881862\n",
      "Fold 3 MAE is 1.6050837046076523\n",
      "Fold 4 MAE is 1.5275897526189417\n",
      "the 5-fold oof MAE is 1.6028034855870956\n"
     ]
    }
   ],
   "source": [
    "mae_scores_2 = list()\n",
    "\n",
    "for i, (train_idx, test_idx) in enumerate(skf.split(x,y)):\n",
    "    x_train, x_test = x.loc[train_idx], x.loc[test_idx]\n",
    "    y_train, y_test = y.loc[train_idx], y.loc[test_idx]\n",
    "    \n",
    "    md_2.fit(x_train, y_train, epochs=20, verbose = 0)\n",
    "    md_2_pred = md_1.predict(x_test, verbose=0)\n",
    "    \n",
    "    mae = mean_absolute_error(y_test, md_2_pred)\n",
    "    mae_scores_2.append(mae)\n",
    "    \n",
    "    print(f'Fold {i} MAE is {mae}')\n",
    "    \n",
    "print(f'the 5-fold oof MAE is {np.mean(mae_scores_2)}')"
   ]
  },
  {
   "cell_type": "markdown",
   "metadata": {},
   "source": [
    "### Exercise 2(d) (6 points)\n",
    "\n",
    "Compute the out-of-fold performance of the model from part 1(i) over the cros-validation strategy from part 2(a). Report the out-of-fold average mean absolute error."
   ]
  },
  {
   "cell_type": "code",
   "execution_count": 19,
   "metadata": {},
   "outputs": [
    {
     "name": "stdout",
     "output_type": "stream",
     "text": [
      "Fold 0 MAE is 1.585452764729021\n",
      "Fold 1 MAE is 1.8660818168532405\n",
      "Fold 2 MAE is 1.6507628003807215\n",
      "Fold 3 MAE is 1.5928152152995523\n",
      "Fold 4 MAE is 1.5179984073099564\n",
      "the 5-fold oof MAE is 1.6426222009144982\n"
     ]
    }
   ],
   "source": [
    "mae_scores_3 = list()\n",
    "\n",
    "for i, (train_idx, test_idx) in enumerate(skf.split(x,y)):\n",
    "    x_train, x_test = x.loc[train_idx], x.loc[test_idx]\n",
    "    y_train, y_test = y.loc[train_idx], y.loc[test_idx]\n",
    "    \n",
    "    md_3.fit(x_train, y_train, epochs=20, verbose = 0)\n",
    "    md_3_pred = md_3.predict(x_test, verbose=0)\n",
    "    \n",
    "    mae = mean_absolute_error(y_test, md_3_pred)\n",
    "    mae_scores_3.append(mae)\n",
    "    \n",
    "    print(f'Fold {i} MAE is {mae}')\n",
    "    \n",
    "print(f'the 5-fold oof MAE is {np.mean(mae_scores_3)}')"
   ]
  },
  {
   "cell_type": "markdown",
   "metadata": {},
   "source": [
    "### Exercise 2(e) (6 points)\n",
    "\n",
    "Compute the out-of-fold performance of the model from part 1(j) over the cros-validation strategy from part 2(a). Report the out-of-fold average mean absolute error."
   ]
  },
  {
   "cell_type": "code",
   "execution_count": 20,
   "metadata": {},
   "outputs": [
    {
     "name": "stdout",
     "output_type": "stream",
     "text": [
      "Fold 0 MAE is 1.912333685565209\n",
      "Fold 1 MAE is 1.6080220972925463\n",
      "Fold 2 MAE is 1.6696748666187917\n",
      "Fold 3 MAE is 1.6125851823615538\n",
      "Fold 4 MAE is 1.652995288525265\n",
      "the 5-fold oof MAE is 1.6911222240726733\n"
     ]
    }
   ],
   "source": [
    "mae_scores_4 = list()\n",
    "\n",
    "for i, (train_idx, test_idx) in enumerate(skf.split(x,y)):\n",
    "    x_train, x_test = x.loc[train_idx], x.loc[test_idx]\n",
    "    y_train, y_test = y.loc[train_idx], y.loc[test_idx]\n",
    "    \n",
    "    md_4.fit(x_train, y_train, epochs=20, verbose = 0)\n",
    "    md_4_pred = md_4.predict(x_test, verbose=0)\n",
    "    \n",
    "    mae = mean_absolute_error(y_test, md_4_pred)\n",
    "    mae_scores_4.append(mae)\n",
    "    \n",
    "    print(f'Fold {i} MAE is {mae}')\n",
    "    \n",
    "print(f'the 5-fold oof MAE is {np.mean(mae_scores_4)}')"
   ]
  },
  {
   "cell_type": "markdown",
   "metadata": {},
   "source": [
    "### Exercise 2(f) (2 points)\n",
    "\n",
    "Based on the results from parts 2(b) to 2(e), what model would use to predict `Age`?"
   ]
  },
  {
   "cell_type": "markdown",
   "metadata": {},
   "source": [
    "Based on the above results I would use model 2 because it had the lowest MAE"
   ]
  }
 ],
 "metadata": {
  "kernelspec": {
   "display_name": "Python 3",
   "language": "python",
   "name": "python3"
  },
  "language_info": {
   "codemirror_mode": {
    "name": "ipython",
    "version": 3
   },
   "file_extension": ".py",
   "mimetype": "text/x-python",
   "name": "python",
   "nbconvert_exporter": "python",
   "pygments_lexer": "ipython3",
   "version": "3.8.8"
  }
 },
 "nbformat": 4,
 "nbformat_minor": 2
}
